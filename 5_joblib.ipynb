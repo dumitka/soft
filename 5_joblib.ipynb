{
 "cells": [
  {
   "cell_type": "code",
   "execution_count": 1,
   "id": "6bc072df",
   "metadata": {},
   "outputs": [],
   "source": [
    "import os\n",
    "import csv\n",
    "import cv2\n",
    "from skimage.feature import hog\n",
    "from sklearn.externals import joblib"
   ]
  },
  {
   "cell_type": "code",
   "execution_count": 2,
   "id": "95bd003b",
   "metadata": {},
   "outputs": [],
   "source": [
    "def load_images_from_folder(folder):\n",
    "    images = []\n",
    "    for filename in os.listdir(folder):\n",
    "        img_path = os.path.join(folder, filename)\n",
    "        img = cv2.imread(img_path)\n",
    "        if img is not None:\n",
    "            img = cv2.cvtColor(img, cv2.COLOR_BGR2GRAY)\n",
    "            images.append(img)\n",
    "    return images \n",
    "\n",
    "def load_sets():\n",
    "    sa_knjigom = load_images_from_folder(\"skup_podataka/saKnjigom\")\n",
    "    bez_knjige = load_images_from_folder(\"skup_podataka/bezKnjiga\")\n",
    "    test_skup = load_images_from_folder(\"skup_podataka/test\")\n",
    "    return sa_knjigom, bez_knjige, test_skup"
   ]
  },
  {
   "cell_type": "code",
   "execution_count": 3,
   "id": "b9b97fe4",
   "metadata": {},
   "outputs": [
    {
     "name": "stdout",
     "output_type": "stream",
     "text": [
      "Slike sa knjigama: 210\n",
      "Slike bez knjiga: 210\n",
      "Slike za test: 150\n",
      "- pozz knjige\n",
      "-- 100   1425636\n",
      "-- 200   1425636\n",
      "-- 209   1425636\n",
      "-- 210   1425636\n",
      "- neg knjige\n",
      "-- 100   [0.12048013 0.00468876 0.02853342 ... 0.01930906 0.02878426 0.        ]\n",
      "-- 200   [0.17440152 0.         0.         ... 0.         0.         0.        ]\n",
      "-- 209   [0.42871029 0.         0.01732251 ... 0.27041089 0.23306476 0.26117683]\n",
      "-- 210   [0.30927826 0.08554968 0.07624716 ... 0.06607455 0.14553686 0.12925364]\n",
      "- kraaj knjiga\n",
      "LinearSVC(C=0.01, class_weight='balanced', verbose=1)\n"
     ]
    },
    {
     "name": "stderr",
     "output_type": "stream",
     "text": [
      "D:\\soft_vezbe\\sc-2021-siit\\env\\lib\\site-packages\\sklearn\\base.py:329: UserWarning: Trying to unpickle estimator LinearSVC from version 0.20.2 when using version 1.0.2. This might lead to breaking code or invalid results. Use at your own risk. For more info please refer to:\n",
      "https://scikit-learn.org/stable/modules/model_persistence.html#security-maintainability-limitations\n",
      "  warnings.warn(\n"
     ]
    },
    {
     "name": "stdout",
     "output_type": "stream",
     "text": [
      "[LibLinear]"
     ]
    },
    {
     "data": {
      "text/plain": [
       "LinearSVC(C=0.01, class_weight='balanced', verbose=1)"
      ]
     },
     "execution_count": 3,
     "metadata": {},
     "output_type": "execute_result"
    }
   ],
   "source": [
    "with_books, without_books, test_set = load_sets()\n",
    "print(\"Slike sa knjigama:\", len(with_books))\n",
    "print(\"Slike bez knjiga:\", len(without_books))\n",
    "print(\"Slike za test:\", len(test_set))\n",
    "\n",
    "lista_svih = []\n",
    "labele = []\n",
    "print(\"- pozz knjige\")\n",
    "br = 1\n",
    "for img in with_books:\n",
    "    features = hog(img, orientations=9, pixels_per_cell=(8, 8), cells_per_block=(2, 2), block_norm=\"L2\")\n",
    "    lista_svih.append(features)\n",
    "    labele.append(1)\n",
    "    if br % 100 == 0 or br > 208:\n",
    "        print(\"--\", br, \" \", len(features))\n",
    "    br += 1\n",
    "    \n",
    "print(\"- neg knjige\")\n",
    "br = 1\n",
    "for img in without_books:\n",
    "    features = hog(img, orientations=9, pixels_per_cell=(8, 8), cells_per_block=(2, 2), block_norm=\"L2\")\n",
    "    lista_svih.append(features)\n",
    "    labele.append(0)\n",
    "    if br % 100 == 0 or br > 208:\n",
    "        print(\"--\", br, \" \", features)\n",
    "    br += 1\n",
    "print(\"- kraaj knjiga\")\n",
    "\n",
    "clf = joblib.load(\"pedestrian.pkl\")\n",
    "print(clf)\n",
    "clf.fit(lista_svih, labele)"
   ]
  },
  {
   "cell_type": "code",
   "execution_count": 4,
   "id": "ae2dc53e",
   "metadata": {},
   "outputs": [
    {
     "name": "stdout",
     "output_type": "stream",
     "text": [
      "Ukupno testiranih: 150\n",
      "Broj tacnih: 103\n",
      "Procentualno: 68.66666666666667 %\n"
     ]
    }
   ],
   "source": [
    "#print(clf)\n",
    "resenje = []\n",
    "with open('skup_podataka/test_podaci.csv', encoding=\"utf8\", newline='\\n') as f:\n",
    "    lines = csv.reader(f, delimiter=',')\n",
    "    for row in lines:\n",
    "        if (row[0] == \"br_knjiga\"):\n",
    "            continue\n",
    "        resenje.append(row[0] != 0)\n",
    "\n",
    "br = 0\n",
    "br_tacnih = 0\n",
    "for img in test_set:\n",
    "    features = hog(img, orientations=9, pixels_per_cell=(8, 8), cells_per_block=(2, 2), block_norm=\"L2\")\n",
    "    listica = [features, features]\n",
    "    rez = clf.predict(listica)\n",
    "    if (rez[0] == resenje[br]):\n",
    "        br_tacnih += 1\n",
    "    br += 1\n",
    "\n",
    "print (\"Ukupno testiranih:\", br)\n",
    "print(\"Broj tacnih:\", br_tacnih)                       # crno-bela slika 94\n",
    "print(\"Procentualno:\", (br_tacnih/br)*100, \"%\")        # crno-bela slika 63%"
   ]
  },
  {
   "cell_type": "code",
   "execution_count": null,
   "id": "0909aaa7",
   "metadata": {},
   "outputs": [],
   "source": []
  }
 ],
 "metadata": {
  "kernelspec": {
   "display_name": "Python 3 (ipykernel)",
   "language": "python",
   "name": "python3"
  },
  "language_info": {
   "codemirror_mode": {
    "name": "ipython",
    "version": 3
   },
   "file_extension": ".py",
   "mimetype": "text/x-python",
   "name": "python",
   "nbconvert_exporter": "python",
   "pygments_lexer": "ipython3",
   "version": "3.9.5"
  }
 },
 "nbformat": 4,
 "nbformat_minor": 5
}
