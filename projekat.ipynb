{
 "cells": [
  {
   "cell_type": "code",
   "execution_count": 1,
   "id": "45c4204c",
   "metadata": {},
   "outputs": [],
   "source": [
    "import os\n",
    "import csv\n",
    "import cv2\n",
    "from skimage.feature import hog\n",
    "from sklearn.externals import joblib"
   ]
  },
  {
   "cell_type": "code",
   "execution_count": 2,
   "id": "105877cb",
   "metadata": {},
   "outputs": [],
   "source": [
    "# ucitavanje skupova\n",
    "\n",
    "def load_images_from_folder(folder):\n",
    "    images = []\n",
    "    for filename in os.listdir(folder):\n",
    "        img_path = os.path.join(folder, filename)\n",
    "        img = cv2.imread(img_path)\n",
    "        if img is not None:\n",
    "            img = cv2.cvtColor(img, cv2.COLOR_BGR2GRAY)\n",
    "            images.append(img)\n",
    "    return images \n",
    "\n",
    "def load_sets():\n",
    "    sa_knjigom = load_images_from_folder(\"skup_podataka/saKnjigom\")\n",
    "    bez_knjige = load_images_from_folder(\"skup_podataka/bezKnjiga\")\n",
    "    test_skup = load_images_from_folder(\"skup_podataka/test\")\n",
    "    return sa_knjigom, bez_knjige, test_skup"
   ]
  },
  {
   "cell_type": "code",
   "execution_count": 3,
   "id": "b1e3606d",
   "metadata": {},
   "outputs": [],
   "source": [
    "# odredjivanje da li naslici ima knjiga ili nema\n",
    "\n",
    "def hog_processing(sa_knjigama, bez_knjiga):\n",
    "    lista_svih = []\n",
    "    labele = []\n",
    "    for slika in sa_knjigama:\n",
    "        features = hog(slika, orientations=9, pixels_per_cell=(8, 8), cells_per_block=(2, 2), block_norm=\"L2\")\n",
    "        lista_svih.append(features)\n",
    "        labele.append(1)\n",
    "\n",
    "    for slika in bez_knjiga:\n",
    "        features = hog(slika, orientations=9, pixels_per_cell=(8, 8), cells_per_block=(2, 2), block_norm=\"L2\")\n",
    "        lista_svih.append(features)\n",
    "        labele.append(0)\n",
    "\n",
    "    clf = joblib.load(\"pedestrian.pkl\")\n",
    "    clf.fit(lista_svih, labele)\n",
    "    return clf\n",
    "\n",
    "def read_resault(ime_fajla):\n",
    "    resenje = []\n",
    "    with open(ime_fajla, encoding=\"utf8\", newline='\\n') as f:\n",
    "        lines = csv.reader(f, delimiter=',')\n",
    "        for row in lines:\n",
    "            if (row[0] == \"br_knjiga\"):\n",
    "                continue\n",
    "            niz = []\n",
    "            if len(row) == 2:\n",
    "                niz = row[1]\n",
    "                niz = niz[1:-1]\n",
    "                niz = niz.split(';')\n",
    "            resenje.append([int(row[0]), niz])\n",
    "    return resenje\n",
    "\n",
    "def predict_books(clf, test_skup, informacije):\n",
    "    resenje = [i[0] != 0 for i in informacije]\n",
    "\n",
    "    dobijeni_rezultat = []\n",
    "    ind = 0\n",
    "    br_tacnih = 0\n",
    "    for slika in test_skup:\n",
    "        features = hog(slika, orientations=9, pixels_per_cell=(8, 8), cells_per_block=(2, 2), block_norm=\"L2\")\n",
    "        listica = [features, features]\n",
    "        rez = clf.predict(listica)\n",
    "        dobijeni_rezultat.append(rez[0])\n",
    "        if (dobijeni_rezultat[ind] == resenje[ind]):\n",
    "            br_tacnih += 1\n",
    "        ind += 1\n",
    "    tacnost = (br_tacnih / len(resenje)) * 100\n",
    "    tacnost = round(tacnost, 2)\n",
    "    return tacnost, dobijeni_rezultat"
   ]
  },
  {
   "cell_type": "code",
   "execution_count": 4,
   "id": "ddf1059e",
   "metadata": {
    "scrolled": true
   },
   "outputs": [
    {
     "name": "stdout",
     "output_type": "stream",
     "text": [
      "Slike sa knjigama: 210\n",
      "Slike bez knjiga: 210\n",
      "Slike za test: 150\n",
      "\n",
      "Detekcija da li na slikama ima knjiga ili ne je u toku...\n",
      "Detekcija moze potrajati oko 10 minuta\n"
     ]
    },
    {
     "name": "stderr",
     "output_type": "stream",
     "text": [
      "D:\\soft_vezbe\\sc-2021-siit\\env\\lib\\site-packages\\sklearn\\base.py:329: UserWarning: Trying to unpickle estimator LinearSVC from version 0.20.2 when using version 1.0.2. This might lead to breaking code or invalid results. Use at your own risk. For more info please refer to:\n",
      "https://scikit-learn.org/stable/modules/model_persistence.html#security-maintainability-limitations\n",
      "  warnings.warn(\n"
     ]
    },
    {
     "name": "stdout",
     "output_type": "stream",
     "text": [
      "[LibLinear]\n",
      "Detekcija je zavrsena\n",
      "Tacnost resenja: 88.67%\n"
     ]
    }
   ],
   "source": [
    "# GLAVNA FUNKCIJA\n",
    "\n",
    "with_books, without_books, test_set = load_sets()\n",
    "print(\"Slike sa knjigama:\", len(with_books))\n",
    "print(\"Slike bez knjiga:\", len(without_books))\n",
    "print(\"Slike za test:\", len(test_set))\n",
    "\n",
    "print(\"\\nDetekcija da li na slikama ima knjiga ili ne je u toku...\")\n",
    "print(\"Detekcija moze potrajati oko 10 minuta\")\n",
    "linear_svc = hog_processing(with_books, without_books)\n",
    "file_info = read_resault('skup_podataka/test_podaci.csv')\n",
    "accuracy, resault = predict_books(linear_svc, test_set, file_info)\n",
    "print(\"\\nDetekcija je zavrsena\")\n",
    "print(\"Tacnost resenja: \" + str(accuracy) +\"%\")\n",
    "\n",
    "\"\"\"\n",
    "    file_info                                                -> [[0, []], [2, ['rec', 'rec', 'rec']], ...]\n",
    "    \n",
    "    knjiga_info_7 = file_info[6]                             -> [2, ['rec', 'rec', 'rec']]                -> ima knjiga\n",
    "    sve_reci_za_ocr = file_info[6][1] = knjiga_info_7[1]     -> ['rec', 'rec', 'rec']\n",
    "    knjiga_info_5 = file_info[4]                             -> [0, []]                                   -> nema knjiga\n",
    "    \n",
    "    --------------------------------------------------------------------------------------------------------------------\n",
    "    result                                                   -> [0, 1, 0, 1, 1, ...]\n",
    "    --------------------------------------------------------------------------------------------------------------------\n",
    "    uslov za ocr:\n",
    "        => result[ind] == 1 and file_info[ind][0] != 0\n",
    "    \n",
    "\"\"\""
   ]
  },
  {
   "cell_type": "code",
   "execution_count": null,
   "id": "96ed5860",
   "metadata": {},
   "outputs": [],
   "source": []
  }
 ],
 "metadata": {
  "kernelspec": {
   "display_name": "Python 3 (ipykernel)",
   "language": "python",
   "name": "python3"
  },
  "language_info": {
   "codemirror_mode": {
    "name": "ipython",
    "version": 3
   },
   "file_extension": ".py",
   "mimetype": "text/x-python",
   "name": "python",
   "nbconvert_exporter": "python",
   "pygments_lexer": "ipython3",
   "version": "3.9.5"
  }
 },
 "nbformat": 4,
 "nbformat_minor": 5
}
