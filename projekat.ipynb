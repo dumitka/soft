{
 "cells": [
  {
   "cell_type": "code",
   "execution_count": null,
   "id": "45c4204c",
   "metadata": {},
   "outputs": [],
   "source": [
    "import numpy as np\n",
    "import cv2 # OpenCV\n",
    "import matplotlib\n",
    "import matplotlib.pyplot as plt\n",
    "import collections\n",
    "\n",
    "# iscrtavanje slika u notebook-u\n",
    "%matplotlib inline\n",
    "# prikaz vecih slika\n",
    "matplotlib.rcParams['figure.figsize'] = 16,12\n",
    "\n",
    "# keras                                           -OVO JE DODATO\n",
    "from tensorflow import keras\n",
    "from keras.models import Sequential\n",
    "from keras.layers.core import Dense, Activation\n",
    "\n",
    "from tensorflow.keras.optimizers import SGD"
   ]
  }
 ],
 "metadata": {
  "kernelspec": {
   "display_name": "Python 3 (ipykernel)",
   "language": "python",
   "name": "python3"
  },
  "language_info": {
   "codemirror_mode": {
    "name": "ipython",
    "version": 3
   },
   "file_extension": ".py",
   "mimetype": "text/x-python",
   "name": "python",
   "nbconvert_exporter": "python",
   "pygments_lexer": "ipython3",
   "version": "3.9.5"
  }
 },
 "nbformat": 4,
 "nbformat_minor": 5
}
