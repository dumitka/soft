{
 "cells": [
  {
   "cell_type": "code",
   "execution_count": 1,
   "id": "53e75d01",
   "metadata": {},
   "outputs": [],
   "source": [
    "import os\n",
    "import csv\n",
    "import matplotlib.pyplot as plt\n",
    "import cv2\n",
    "import easyocr\n",
    "import numpy as np\n",
    "import pandas as pandas"
   ]
  },
  {
   "cell_type": "code",
   "execution_count": 2,
   "id": "2aee1fc2",
   "metadata": {},
   "outputs": [],
   "source": [
    "#ucitati sve slike iz tesnog skupa\n",
    "def load_images_from_folder(folder):\n",
    "    images = []\n",
    "    for filename in os.listdir(folder):\n",
    "        img_path = os.path.join(folder, filename)\n",
    "        img = cv2.imread(img_path)\n",
    "        if img is not None:\n",
    "            img = cv2.cvtColor(img, cv2.COLOR_BGR2GRAY)\n",
    "            images.append(img)\n",
    "    return images \n",
    "\n",
    "def load_sets():\n",
    "    test_set = load_images_from_folder(\"skup_podataka/test\")\n",
    "    return test_set\n",
    "\n",
    "def load_csv():\n",
    "    file = open('skup_podataka/test_podaci.csv', encoding=\"utf8\")\n",
    "    csv_reader = csv.reader(file)\n",
    "    header = []\n",
    "    header = next(csv_reader)\n",
    "    rows = []\n",
    "    for row in csv_reader:\n",
    "        rows.append(row)\n",
    "    return rows"
   ]
  },
  {
   "cell_type": "code",
   "execution_count": 3,
   "id": "c5248f0e",
   "metadata": {},
   "outputs": [],
   "source": [
    "#ocr pomocu biblioteke\n",
    "def ocr(imageset, csv_set):\n",
    "    global_list = []\n",
    "    reader = easyocr.Reader(['rs_latin'])\n",
    "    \n",
    "    len_of_image_with_books = 0\n",
    "    \n",
    "    index = 0 #index for csv_set\n",
    "    for image in imageset:\n",
    "        if csv_set[index][0] != '0':\n",
    "            list_of_words = []\n",
    "\n",
    "            #horizontalne knjige\n",
    "            output = reader.readtext(image) #[lista_koordinata, rijec_koja_je_detektovana, koliko_je_siguran_da_je_to_ta_rijec]\n",
    "            for o in output:\n",
    "                if o[2]>0.5:\n",
    "                    if(len(o[1]) > 1):\n",
    "                        list_of_words.append(o[1])\n",
    "\n",
    "            #odradi rotaciju za 90 stepeni da detektuje ukoliko ima vertikalnih knjiga\n",
    "            rot_image = np.rot90(image)\n",
    "            output = reader.readtext(rot_image) \n",
    "            for o in output:\n",
    "                if o[2]>0.5:\n",
    "                    if(len(o[1]) > 1):\n",
    "                        list_of_words.append(o[1])\n",
    "\n",
    "            global_list.append(list_of_words)\n",
    "            \n",
    "            index = index + 1\n",
    "        else:\n",
    "            empty_list = []\n",
    "            global_list.append(empty_list)\n",
    "            index = index + 1\n",
    "        \n",
    "    return global_list"
   ]
  },
  {
   "cell_type": "code",
   "execution_count": 23,
   "id": "28cda4ef",
   "metadata": {},
   "outputs": [],
   "source": [
    "def prepare_ocr_row(row):\n",
    "    final_list = []\n",
    "    for elem in row:\n",
    "        mini_list = elem.split(\" \")\n",
    "        for word in mini_list:\n",
    "            final_list.append(word.upper())\n",
    "    return final_list\n",
    "\n",
    "def prepare_csv_row(row):\n",
    "    list1 = row.split(\"[\")\n",
    "    list2 = list1[1].split(\"]\")\n",
    "    return list2[0].split(\";\")\n",
    "\n",
    "def calculate_result(ocr_set, csv_set):\n",
    "    sum_of_all = 0\n",
    "    num_of_words = 0\n",
    "    \n",
    "    for i in range(len(csv_set)):\n",
    "        if(csv_set[i][0] != '0'):\n",
    "            ocr_list = prepare_ocr_row(ocr_set[i])\n",
    "            csv_list = prepare_csv_row(csv_set[i][1])\n",
    "            \n",
    "            num_of_words = num_of_words + len(csv_list)\n",
    "            \n",
    "            for word in csv_list:\n",
    "                if word in ocr_list:\n",
    "                    sum_of_all = sum_of_all + 1\n",
    "    return (sum_of_all/num_of_words) "
   ]
  },
  {
   "cell_type": "code",
   "execution_count": 5,
   "id": "ed077b1c",
   "metadata": {},
   "outputs": [],
   "source": [
    "#main\n",
    "test_set = load_sets()\n",
    "rows = load_csv()\n"
   ]
  },
  {
   "cell_type": "code",
   "execution_count": 10,
   "id": "f4bce18e",
   "metadata": {},
   "outputs": [
    {
     "name": "stderr",
     "output_type": "stream",
     "text": [
      "CUDA not available - defaulting to CPU. Note: This module is much faster with a GPU.\n"
     ]
    },
    {
     "name": "stdout",
     "output_type": "stream",
     "text": [
      "[[], [], ['MRAČNA AKADEMIJA PODELJENE DUŠE', 'GABRIJELA PUL', 'DŽO', 'ABERKROMBI', 'ŠTRICA', 'Laguna', 'MRAČNA AKADEMIJA', 'KRVNE VEZE', 'GABRIJELA PUL'], [], ['ANITA DAJAMANT', 'DEVOJKA IZ BOSTONA', 'Laguna', 'SUZANA', 'DANLAP', 'LISTOV POLJUBAC', 'Lacuna', 'ANITA DAJAMANT', 'DOBRA LUKA', 'DVIVIVVI', 'DOBKV FOKV'], ['ALESANDRO BARIKO', 'SVILA', 'PAIDEIA', 'ALESANDRO BARIKO', 'PIJANISTA', 'PAIDEIA', 'ALESANDRO BARIKO', 'ZAMKOVI', 'PAIDEIA'], [], [], ['ALESANDRO BARIKO', 'SVILA', 'PAIDELA', 'PIJANISTA', 'PAIDEIA', 'ALESANDRO BARIKO'], [], ['freschello', 'ITALIA', 'emaker', 'KERI SMIT', 'Avulkan'], ['ČARLS', 'Stara prodavnica', 'DIKENS', 'retkosti'], [], [], ['GEORGE', 'NINA', 'Mali bistro', 'Bretanji'], [], ['Stiv Beri', 'ALEKSANDRIJSKA VEZA', 'vulkan', 'Stiv Beri', 'PAKLENA ODAJA', 'vulkan'], ['alnari', 'Sara', 'Šepard', 'Bezgrešna', 'alnari', 'malelažljivice', 'Sara Separd', 'Avulkan', 'Šeldon', 'SJAJ', 'pips', 'Slatke', 'ZVEZDA', 'Sidni'], [], ['KARLOS Ruis SAFON', 'PRINC', 'MAGLE', 'KaRLOS Ruis SAFON', 'PONOCNA', 'PALATA'], ['BORILAČKI KLUB', 'Lagunal'], ['KERI SMIT', 'Avulkan'], [], ['NIKOLAS SPARKS', 'Lagunal', 'Beležnica'], [], [], ['SVET U', 'VOLFRAM ELZNER', 'KINESKI', 'VEK', 'Laguna', 'Verner', 'Dalhajm'], [], [], [], ['B.D. Benedikt', 'Plemić', 'LENTO'], [], ['NOVA KNJIGA', 'JAMAJSKA STAZA', 'Laguna', 'VILIJEM POL JANG', 'EVA'], ['KOLIN', 'Laguna', 'HUVER', 'ep'], ['Bernard Kornvel', 'NEPRIJATELJ BOGA', 'Bernard Kornvel', 'EKSKALIBUR', 'OTVORENA', 'OTVORENA', 'KNJIGA'], ['sandra', 'BRAUN', 'BEZ OKLEVANJA', 'Avulkan'], [], ['FILIP KER', 'Kristalno LETO', 'Laguna'], ['DŽ. D. BARKER', 'ROĐEN', 'da', 'UBIJE', 'VULKAN'], ['Saršena', 'DŽIM ŠEPARD', 'KNJIGA 0 ARONU', 'Robin Šarma', 'Nova', 'Nova', 'P(b', 'Savršena', 'Sara Šepard', 'alnari', 'VNVINVI', '! ONOV', 'Vilijam Fokner', 'Svetilište', 'Vilijam Fokner', 'Avesalome, Avesalome!'], ['SILVIJA DEJ', 'Obnažena', 'tobom', 'pred', 'Laguna', 'REJ BREDBERI', 'FARENHAJT 451', 'aguna', 'ANITA DAJAMANT', 'CRVENI ŠATOR'], ['Su', 'Zvezda', 'DANIJELA', 'DOBRA', 'ŽENA'], ['Laguna', '1VA', 'KO L E G A', 'SEME MRAKA', '[Laguna', 'Mo Jen', 'ZABE'], [], ['SAMANTA', 'JANG', 'HEROJ', 'Laguna', 'SAMANTA JANG', 'JAMAJSKA STAZA'], ['Mirko KOVAČ', 'VRIJEME', 'se', 'UDALJAVA', 'Laguna', 'damir karakaš', 'blue', 'moon', '0 M', 'DAMIR', 'KARAKAŠ', 'Kako', 'sam', 'ušao', 'Europu', 'koje'], ['PAIDEIA', 'GVOZDENO DOBA', 'Dž. M. Kuci', 'PAIDEIA', 'ZEMLJE', 'SUMRAKA', 'Dž M. Kuci', 'PAIDEIA', 'ISUSOVO DETINJSTVO', 'Dž.', 'M. Kuci'], ['OLGA GRJAZNOVA', 'BOG NIJE STIDLJIV', 'Laguna', 'Laguna', 'DE NI $', 'BU K IN'], [], ['ŠERIL STREJD', 'Divljina'], ['Stefanija Auči', 'Sicilijanski LAVOVI', 'Laguna', 'SAVA BUNČIĆ', 'Posedovati', 'UVE JONZON', 'Svaki dan u godini', 'Laguna'], [], [], ['RIK', 'JENSI', 'PETI TALAS'], ['TES GERITSEN', 'HLADNO KAO LED', 'Laguna', 'Laguna', 'Sara', 'Blede l', 'STAZA SMRTI'], ['Linda HAUARD', \"'Tamni veo\"], ['Iskender Pala', 'Smrt u', 'ljubav u Istanbulu', 'Laguna', 'Vavilonu,'], ['DEJVID NIKOLS', 'Slatki', 'Laguna', 'rastanak'], [], ['Robert Krouč', 'OTIŠAO U INDIJANCE', 'VILIJEM POL JANG', 'EVA', 'Lagun', 'Patril Devit', 'BRACA SISTERS', 'eua'], [], ['Mark', 'Aldanov', 'Mo Jen', 'ZABE', 'Laguna'], [], ['FILIP ROT', 'PROFESOR ZUDNJE', 'Laguna'], ['SKOT', 'VESTERFELD', 'LEPOTANI', 'Laguna'], [], ['Barbara', 'Kingsolver', 'Bujno', 'leto', 'Laguna'], ['ČAK PALAHNJUK', 'BORILAČKI KLUB', 'Laguna', 'DŽO HIL', 'KUTIJA U', 'OBLIKU SRCA', 'žena', 'Laguna', '100', 'Hana', 'istoriji', 'opakih', 'Džuel'], ['Mo Jen', 'ŽABE', 'Laguna', 'Mark', 'Aldanov', 'Laguna'], [], ['1VA', 'KO L E G A', 'SEME MRAKA', 'Laguna'], [], [], ['G .', 'RIDL', 'TAJNA ATLANTIDE', 'Avulkan'], ['SAMANTA', 'JANG', 'HEROJ', 'Laguna', 'VILIJEM', 'POL JANG', 'EVA', 'Laguna'], ['ALIKSANDRA HARVI', 'Krvnineprijatelj', 'Lacuna', 'MANJINE', 'USAMLJENOST', '1 V A N J ['], ['DŽILIJEN', 'FLIN', 'OŠTRI PREDMETI', 'aguna', 'DŽ. ŠEN', 'UKRADENI POLJUBAC', 'Laguna', 'ŠERIL STREJD', 'Divljina'], ['Džejms HERBERT', 'PREŽIVEO', 'PALADIN', 'VLADIMIR LORCENKOV', 'Med imleko', 'Loiz Mekmaster Bižol', 'PLAĆENIK', 'VULKAN'], [], ['JAVA / OBJEKTNO-ORIJENTISANO PROGRAMIRANJE', '690', 'Suzan Vajs', 'ISTORIJA STAROG SVETA', 'Bauer', 'PRVI', 'PREOBRAŽAJI', 'Laguna', 'Suzan Vajs', 'ISTORIJA STAROG SVETA', 'Bauer', 'PRVA', 'CARSTVA', 'Laguna', 'VOL', 'III', 'II', 'Ili'], ['Laguna', 'PATRIŠA KoRNVEL', 'GRNČAREVO POLJE'], ['SAMANTA JANG', 'HEROJ', 'Laguna', 'SAMANTA', 'JANG', 'Dablin STRIT'], ['HUAN', 'ZNAMENJE', 'Laguna', 'GOMES-HURADO', 'IZDAJNIKA', 'Ante Tomić', 'ČUDO U POSKOKOVOJ DRAGI', 'Laguna'], ['KERI SMIT', 'vulkan'], ['sandra', 'BRAUN', 'KRATAK REZ', 'Avulkan'], ['aguna', 'AND REA', 'Modiskinja'], ['Vladimir Nabokov', 'Lolita'], ['Laguna', 'Elen Feldman', 'POSLE LJUBAVI'], [], ['DŽEF BEZOS', 'Smišljajte i istražujte', 'Laguna', 'PRICE 0 CRVENOM SIRKU', 'Laguna'], [], ['ŠARLEJN HARIS', 'Mrtav do mraka', 'ŠARLEJN HARIS', 'Živeti mrtav u Dalasu'], ['alnari', 'srećna devojka', 'Dženifer Vajner'], ['ELDŽEJMS', 'GOSPODIN', '13', '08'], [], ['Peter Handke', 'VELIKI PAD', 'Laguna', '98\"'], [], [], [], ['sandra', 'BRAUN', 'ZAOKA', 'VULKAN', 'sandra', 'BRAUN', 'VIKEND ZA LJUBAV', 'Avulkan'], ['Peter Handke', 'KRATKO PISMO ZA DUGI RASTANAK', 'Peter Handke', 'VELIKI PAD'], [], [], ['Sara', 'Blede l', 'STAZA SMRTI', 'Laguna', 'eJes', 'ILHH'], [], [], ['Hakan Gundaj', 'JOŠ', 'KONTRAST', 'MIRČE KARTARESKU', 'NOSTALGIJA', 'FRANKENŠTAJN', 'asuna', 'AHMED SADAVI', 'BAGDADU'], ['sandra', 'BRAUN', 'KRATAK REZ', 'Avulkan', 'VULKAN', 'sandra', 'KLOPKA', 'BRAUN', 'VULKAN', 'SVEDOK', 'sandra', 'BRAUN'], ['Bernhard', 'poremecaj', 'Jens Bjernebue', 'Trenutak slobode', 'KRISTIJAN BANG FOS', 'SMRT VOZI AUDI', 'Tarjej Vesos', 'Ptice', 'Tarjej Vesos', 'Ledeni dvorac', 'ODNI EJR', 'Tomas', 'PROSTORI'], ['Laguna', 'KRATKO PISMO ZA DUGI RASTANAK', 'Peter Handke'], [], ['SOFI KINSELA', 'Dugujem ti', 'Laguna'], ['HARISON', 'OSVETA IMITATORA'], ['ONA ZNA', 'ŽANA POLIAKOV', 'Avulkan'], ['IAvanfI IISOd'], [], ['DŽILIJEN', 'FLIN', 'OŠTRI PREDMETI', 'aguna', 'AM'], ['Promene', 'auUoJd'], ['Nakolas Baro', 'Osmijeh žene'], ['Su', 'Zvezda'], ['Lagua', 'RUBIN', 'En Maksvel', 'Lasuna', 'Loiz Mekmaster Bižol', 'BaRAJAR', 'Dete božije', 'KORMAK', 'KONTRAST', 'MAKARTI'], ['Sidni Šeldon', 'LICE BEZ IMENA', 'Sidni Šeldon', 'SJAJ ZVEZDA'], [], ['Sidni Šeldon', 'LICE BEZ IMENA', 'vulkan', 'Sidni Šeldon', 'SJAJ ZVEZDA', 'Slatke male lažljivice', 'Sara Šepard', 'alnari', 'Bezgrešna', 'Sara Šepard', 'alnari'], [], ['Sudbonosni', 'korak'], ['SOFI KINSELA'], [], ['s njim', 'Dišem', 'ILaguna', 'NENSI', 'HOLDER', 'PRIKRIVENO', 'ZLO'], ['Džuel', 'Hana', '100 opakih žena', 'istoriji', 'Lagunan'], ['ROBINSDN   DAJMONDHED', 'Patrik', 'Robinson', 'PRESRETNUT', 'Patrik'], ['Mo Jen', 'ZABE', 'Laguna'], [], ['RIK JENSI', 'PETI TALAS', 'ILaguna_', 'LUNDBERJ', 'Crveni adresar', 'SOFIJA', 'Laguna', 'KOLIN', 'HUVER'], ['ROBERT', 'HERIS', 'IMPERIJUM', 'Laguna', 'ROBERT', 'HERIS', 'DIKTATOR', 'Laguna', 'ROBERT', 'HERIS', 'DRUGI SAN', 'Laguna'], ['Sigmund Frojd', 'UVOD U', 'indmedia'], [], [], ['Jens Bjernebue', 'Trenutak slobode', 'Tarjej Vesos', 'Ptice', 'Tarjej Vesos', 'Ledeni dvorac'], ['DUŠAn PRELEVIĆ', 'POSLEDNJI KRUG', 'U MONCI'], ['SOFIJA LUNDBERJ', 'Crveni adresar', 'Laguna'], [], ['Heder', 'Veb', 'Rodenova ljubavnica', 'Laguna'], ['CLIo', 'Čendžerai Hove', 'Kosti'], ['Stefanija Auči', 'Sicilijanski LAVOVI', 'MAKART', '178', 'SAVA BUNČIĆ', 'Laguna', 'UVE JONZON', 'Svaki dan u', 'godini'], [], ['Sigmund Frojd', 'UVOD U', 'leioze', 'indmedia', 'PSIHOANALIZU', 'Avulkan'], ['Hakan Gundaj', 'JOŠ', 'Kursat Basar', 'Muzika mog života'], ['GLEN KUPER', 'U SAZVEŽĐU OVNA', 'VULKAN'], []]\n"
     ]
    }
   ],
   "source": [
    "list_of_detected_words = ocr(test_set, rows)\n",
    "print(list_of_detected_words)"
   ]
  },
  {
   "cell_type": "code",
   "execution_count": 24,
   "id": "08a77e26",
   "metadata": {},
   "outputs": [],
   "source": [
    "result = calculate_result(list_of_detected_words, rows)"
   ]
  },
  {
   "cell_type": "code",
   "execution_count": 29,
   "id": "e36f029d",
   "metadata": {},
   "outputs": [
    {
     "name": "stdout",
     "output_type": "stream",
     "text": [
      "82.39%\n"
     ]
    }
   ],
   "source": [
    "procent = result * 100\n",
    "round_procent = round(procent, 2)\n",
    "print(str(round_procent) + \"%\")"
   ]
  }
 ],
 "metadata": {
  "kernelspec": {
   "display_name": "Python 3 (ipykernel)",
   "language": "python",
   "name": "python3"
  },
  "language_info": {
   "codemirror_mode": {
    "name": "ipython",
    "version": 3
   },
   "file_extension": ".py",
   "mimetype": "text/x-python",
   "name": "python",
   "nbconvert_exporter": "python",
   "pygments_lexer": "ipython3",
   "version": "3.9.8"
  }
 },
 "nbformat": 4,
 "nbformat_minor": 5
}
